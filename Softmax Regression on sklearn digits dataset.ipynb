{
 "cells": [
  {
   "cell_type": "markdown",
   "metadata": {},
   "source": [
    "## Multi class logistic regression in numpy\n",
    "\n",
    "\n",
    "Softmax regression, also called multinomial logistic regression extends [logistic regression](logistic_regression.ipynb) to multiple classes.\n",
    "\n",
    "**Given:** \n",
    "- dataset $\\{(\\boldsymbol{x}^{(1)}, y^{(1)}), ..., (\\boldsymbol{x}^{(m)}, y^{(m)})\\}$\n",
    "- with $\\boldsymbol{x}^{(i)}$ being a $d-$dimensional vector $\\boldsymbol{x}^{(i)} = (x^{(i)}_1, ..., x^{(i)}_d)$\n",
    "- $y^{(i)}$ being the target variable for $\\boldsymbol{x}^{(i)}$, for example with $K = 3$ classes we might have $y^{(i)} \\in \\{0, 1, 2\\}$\n",
    "\n",
    "A softmax regression model has the following features: \n",
    "- a separate real-valued weight vector $\\boldsymbol{w}= (w^{(1)}, ..., w^{(d)})$ for each class. The weight vectors are typically stored as rows in a weight matrix.\n",
    "- a separate real-valued bias $b$ for each class\n",
    "- the softmax function as an activation function\n",
    "- the cross-entropy loss function\n",
    "\n",
    "The training procedure of a softmax regression model has different steps. In the beginning (step 0) the model parameters are initialized. The other steps (see below) are repeated for a specified number of training iterations or until the parameters have converged.\n",
    "\n",
    "An illustration of the whole procedure is given below.\n",
    "\n",
    "![title](figures/softmax_regression.jpg)"
   ]
  },
  {
   "cell_type": "markdown",
   "metadata": {},
   "source": [
    "* * * \n",
    "**Step 0: ** Initialize the weight matrix and bias values with zeros (or small random values).\n",
    "* * *\n",
    "\n",
    "**Step 1: ** For each class $k$ compute a linear combination of the input features and the weight vector of class $k$, that is, for each training example compute a score for each class. For class $k$ and input vector $\\boldsymbol{x}^{(i)}$ we have:\n",
    "\n",
    "$score_{k}(\\boldsymbol{x}^{(i)}) = \\boldsymbol{w}_{k}^T \\cdot \\boldsymbol{x}^{(i)} + b_{k}$\n",
    "\n",
    "where $\\cdot$ is the dot product and $\\boldsymbol{w}_{(k)}$ the weight vector of class $k$.\n",
    "We can compute the scores for all classes and training examples in parallel, using vectorization and broadcasting:\n",
    "\n",
    "$\\boldsymbol{scores} = \\boldsymbol{X} \\cdot \\boldsymbol{W}^T + \\boldsymbol{b} $\n",
    "\n",
    "where $\\boldsymbol{X}$ is a matrix of shape $(n_{samples}, n_{features})$ that holds all training examples, and $\\boldsymbol{W}$ is a matrix of shape $(n_{classes}, n_{features})$ that holds the weight vector for each class. \n",
    "* * *\n",
    "\n",
    "**Step 2: ** Apply the softmax activation function to transform the scores into probabilities. The probability that an input vector $\\boldsymbol{x}^{(i)}$ belongs to class $k$ is given by\n",
    "\n",
    "$\\hat{p}_k(\\boldsymbol{x}^{(i)}) = \\frac{\\exp(score_{k}(\\boldsymbol{x}^{(i)}))}{\\sum_{j=1}^{K} \\exp(score_{j}(\\boldsymbol{x}^{(i)}))}$\n",
    "\n",
    "Again we can perform this step for all classes and training examples at once using vectorization. The class predicted by the model for $\\boldsymbol{x}^{(i)}$ is then simply the class with the highest probability.\n",
    "* * *\n",
    "\n",
    "** Step 3: ** Compute the cost over the whole training set. We want our model to predict a high probability for the target class and a low probability for the other classes. This can be achieved using the cross entropy loss function: \n",
    "\n",
    "$J(\\boldsymbol{W},b) = - \\frac{1}{m} \\sum_{i=1}^m \\sum_{k=1}^{K} \\Big[ y_k^{(i)} \\log(\\hat{p}_k^{(i)})\\Big]$\n",
    "\n",
    "In this formula, the target labels are *one-hot encoded*. So $y_k^{(i)}$ is $1$ is the target class for $\\boldsymbol{x}^{(i)}$ is k, otherwise $y_k^{(i)}$ is $0$.\n",
    "\n",
    "Note: when there are only two classes, this cost function is equivalent to the cost function of [logistic regression](logistic_regression.ipynb).\n",
    "* * *\n",
    "\n",
    "** Step 4: ** Compute the gradient of the cost function with respect to each weight vector and bias. A detailed explanation of this derivation can be found [here](http://ufldl.stanford.edu/tutorial/supervised/SoftmaxRegression/).\n",
    "\n",
    "The general formula for class $k$ is given by:\n",
    "\n",
    "$ \\nabla_{\\boldsymbol{w}_k} J(\\boldsymbol{W}, b) = \\frac{1}{m}\\sum_{i=1}^m\\boldsymbol{x}^{(i)} \\left[\\hat{p}_k^{(i)}-y_k^{(i)}\\right]$\n",
    "\n",
    "For the biases, the inputs $\\boldsymbol{x}^{(i)}$ will be given 1.\n",
    "* * *\n",
    "\n",
    "** Step 5: ** Update the weights and biases for each class $k$:\n",
    "\n",
    "$\\boldsymbol{w}_k = \\boldsymbol{w}_k - \\eta \\, \\nabla_{\\boldsymbol{w}_k} J$  \n",
    "\n",
    "$b_k = b_k - \\eta \\, \\nabla_{b_k} J$\n",
    "\n",
    "where $\\eta$ is the learning rate."
   ]
  },
  {
   "cell_type": "markdown",
   "metadata": {},
   "source": [
    "## Multiclass logistic regression implementation"
   ]
  },
  {
   "cell_type": "code",
   "execution_count": 1,
   "metadata": {},
   "outputs": [],
   "source": [
    "import numpy as np\n",
    "import matplotlib.pyplot as plt\n",
    "\n",
    "class MultiClassLogisticRegression:\n",
    "    \n",
    "    def __init__(self, n_iter = 10000, thres=1e-3):\n",
    "        self.n_iter = n_iter\n",
    "        self.thres = thres\n",
    "    \n",
    "    def fit(self, X, y, batch_size=64, lr=0.001, rand_seed=4, verbose=False): \n",
    "        np.random.seed(rand_seed) #function that sets the random seed of the NumPy pseudo-random number generator. It provides an essential input that enables NumPy to generate pseudo-random numbers for random processes.\n",
    "        self.classes = np.unique(y) #returns the sorted unique elements of an array\n",
    "        self.class_labels = {c:i for i,c in enumerate(self.classes)}\n",
    "        X = self.add_bias(X)\n",
    "        y = self.one_hot(y)\n",
    "        self.loss = []\n",
    "        self.weights = np.zeros(shape=(len(self.classes),X.shape[1])) #k*m\n",
    "        self.fit_data(X, y, batch_size, lr, verbose)\n",
    "        return self\n",
    " \n",
    "    def fit_data(self, X, y, batch_size, lr, verbose):\n",
    "        i = 0\n",
    "        while (not self.n_iter or i < self.n_iter):\n",
    "            self.loss.append(self.cross_entropy(y, self.predict_(X)))\n",
    "            idx = np.random.choice(X.shape[0], batch_size)\n",
    "            X_batch, y_batch = X[idx], y[idx]\n",
    "            error = y_batch - self.predict_(X_batch)\n",
    "            update = (lr * np.dot(error.T, X_batch))\n",
    "            self.weights += update\n",
    "            if np.abs(update).max() < self.thres: break\n",
    "            if i % 1000 == 0 and verbose: \n",
    "                print(' Training Accuray at {} iterations is {}'.format(i, self.evaluate_(X, y)))\n",
    "            i +=1\n",
    "    \n",
    "    def predict(self, X):\n",
    "        return self.predict_(self.add_bias(X))\n",
    "    \n",
    "    def predict_(self, X):\n",
    "        pre_vals = np.dot(X, self.weights.T).reshape(-1,len(self.classes))\n",
    "        return self.softmax(pre_vals)\n",
    "    \n",
    "    def softmax(self, z):\n",
    "        return np.exp(z) / np.sum(np.exp(z), axis=1).reshape(-1,1)\n",
    "\n",
    "    def predict_classes(self, X):\n",
    "        self.probs_ = self.predict(X)\n",
    "        return np.vectorize(lambda c: self.classes[c])(np.argmax(self.probs_, axis=1))\n",
    "  \n",
    "    def add_bias(self,X):\n",
    "        return np.insert(X, 0, 1, axis=1)\n",
    "  \n",
    "    def get_randon_weights(self, row, col):\n",
    "        return np.zeros(shape=(row,col))\n",
    "\n",
    "    def one_hot(self, y):\n",
    "        return np.eye(len(self.classes))[np.vectorize(lambda c: self.class_labels[c])(y).reshape(-1)]\n",
    "    \n",
    "    def score(self, X, y):\n",
    "        return np.mean(self.predict_classes(X) == y)\n",
    "    \n",
    "    def evaluate_(self, X, y):\n",
    "        return np.mean(np.argmax(self.predict_(X), axis=1) == np.argmax(y, axis=1))\n",
    "    \n",
    "    def cross_entropy(self, y, probs):\n",
    "        return -1 * np.mean(y * np.log(probs))"
   ]
  },
  {
   "cell_type": "markdown",
   "metadata": {},
   "source": [
    "## Implementation Evaluation"
   ]
  },
  {
   "cell_type": "code",
   "execution_count": 2,
   "metadata": {},
   "outputs": [
    {
     "name": "stdout",
     "output_type": "stream",
     "text": [
      "0.9697692919649961\n"
     ]
    },
    {
     "data": {
      "image/png": "[encoded data removed]",
      "text/plain": [
       "<Figure size 576x432 with 1 Axes>"
      ]
     },
     "metadata": {
      "needs_background": "light"
     },
     "output_type": "display_data"
    }
   ],
   "source": [
    "from sklearn import datasets\n",
    "import matplotlib.pyplot as plt\n",
    "from sklearn.model_selection import train_test_split\n",
    "\n",
    "# import some data to play with\n",
    "digits = datasets.load_digits()\n",
    "X = digits.data  \n",
    "Y = digits.target\n",
    "X_train, X_test, y_train, y_test = train_test_split(X, Y, test_size=0.3, random_state=0)\n",
    "lr = MultiClassLogisticRegression()\n",
    "lr.fit(X_train,y_train, lr=0.0001)\n",
    "\n",
    "pre = lr.predict_classes(X)\n",
    "print(lr.score(X_train,y_train))\n",
    "\n",
    "fig = plt.figure(figsize=(8,6))\n",
    "plt.plot(np.arange(len(lr.loss)), lr.loss)\n",
    "plt.title(\"Development of loss during training\")\n",
    "plt.xlabel(\"Number of iterations\")\n",
    "plt.ylabel(\"Loss\")\n",
    "plt.show()"
   ]
  },
  {
   "cell_type": "code",
   "execution_count": 3,
   "metadata": {},
   "outputs": [
    {
     "data": {
      "text/plain": [
       "(540, 64)"
      ]
     },
     "execution_count": 3,
     "metadata": {},
     "output_type": "execute_result"
    }
   ],
   "source": [
    "X_test.shape"
   ]
  },
  {
   "cell_type": "code",
   "execution_count": 4,
   "metadata": {},
   "outputs": [
    {
     "data": {
      "text/plain": [
       "(1257, 64)"
      ]
     },
     "execution_count": 4,
     "metadata": {},
     "output_type": "execute_result"
    }
   ],
   "source": [
    "X_train.shape"
   ]
  },
  {
   "cell_type": "code",
   "execution_count": 5,
   "metadata": {},
   "outputs": [
    {
     "data": {
      "text/plain": [
       "(540,)"
      ]
     },
     "execution_count": 5,
     "metadata": {},
     "output_type": "execute_result"
    }
   ],
   "source": [
    "y_test.shape"
   ]
  },
  {
   "cell_type": "code",
   "execution_count": 6,
   "metadata": {},
   "outputs": [
    {
     "data": {
      "text/plain": [
       "(1257,)"
      ]
     },
     "execution_count": 6,
     "metadata": {},
     "output_type": "execute_result"
    }
   ],
   "source": [
    "y_train.shape"
   ]
  },
  {
   "cell_type": "code",
   "execution_count": 7,
   "metadata": {},
   "outputs": [
    {
     "data": {
      "image/png": "[encoded data removed]",
      "text/plain": [
       "<Figure size 5040x288 with 1 Axes>"
      ]
     },
     "metadata": {
      "needs_background": "light"
     },
     "output_type": "display_data"
    }
   ],
   "source": [
    "sample_image = X_test[np.random.randint(0, 540)]\n",
    "selected = sample_image.reshape(8,8)\n",
    "plt.figure(figsize = (70,4))\n",
    "plt.imshow(selected, cmap = 'binary', interpolation = None)\n",
    "plt.show()"
   ]
  },
  {
   "cell_type": "code",
   "execution_count": 8,
   "metadata": {},
   "outputs": [
    {
     "data": {
      "text/plain": [
       "(1, 64)"
      ]
     },
     "execution_count": 8,
     "metadata": {},
     "output_type": "execute_result"
    }
   ],
   "source": [
    "image = sample_image.reshape(1, -1)\n",
    "image.shape"
   ]
  },
  {
   "cell_type": "code",
   "execution_count": 9,
   "metadata": {},
   "outputs": [
    {
     "data": {
      "text/plain": [
       "array([[7.73306880e-03, 2.62907227e-05, 7.78960395e-03, 5.14042925e-05,\n",
       "        2.59794092e-04, 9.75705920e-01, 1.00087348e-03, 6.25707360e-03,\n",
       "        1.09075702e-03, 8.52137153e-05]])"
      ]
     },
     "execution_count": 9,
     "metadata": {},
     "output_type": "execute_result"
    }
   ],
   "source": [
    "prediction = lr.predict(image)\n",
    "prediction"
   ]
  },
  {
   "cell_type": "code",
   "execution_count": 10,
   "metadata": {},
   "outputs": [
    {
     "data": {
      "text/plain": [
       "(1, 10)"
      ]
     },
     "execution_count": 10,
     "metadata": {},
     "output_type": "execute_result"
    }
   ],
   "source": [
    "prediction.shape"
   ]
  },
  {
   "cell_type": "code",
   "execution_count": 11,
   "metadata": {},
   "outputs": [
    {
     "data": {
      "image/png": "[encoded data removed]",
      "text/plain": [
       "<Figure size 432x288 with 1 Axes>"
      ]
     },
     "metadata": {
      "needs_background": "light"
     },
     "output_type": "display_data"
    }
   ],
   "source": [
    "%matplotlib inline\n",
    "\n",
    "import matplotlib\n",
    "import matplotlib.pyplot as plt\n",
    "def plot_digit(some_digit):\n",
    "    \n",
    "    some_digit_image = some_digit.reshape(8,8)\n",
    "    \n",
    "\n",
    "    plt.imshow(some_digit_image, cmap = matplotlib.cm.binary, interpolation = \"nearest\")\n",
    "    plt.axis(\"off\")\n",
    "    plt.show()\n",
    " \n",
    "    \n",
    "plot_digit(X_test[100])"
   ]
  },
  {
   "cell_type": "code",
   "execution_count": 12,
   "metadata": {},
   "outputs": [
    {
     "data": {
      "text/plain": [
       "5"
      ]
     },
     "execution_count": 12,
     "metadata": {},
     "output_type": "execute_result"
    }
   ],
   "source": [
    "y_test[100]"
   ]
  },
  {
   "cell_type": "code",
   "execution_count": 21,
   "metadata": {},
   "outputs": [],
   "source": [
    "def softmax(self, z):\n",
    "        #return np.exp(z) / np.sum(np.exp(z), axis=1).reshape(-1,1)\n",
    "        #z = np.dot(image, self.weights.T).reshape(-1,len(self.classes))\n",
    "        z = np.dot(image, self.weights.T)\n",
    "        #softmax = np.exp(z) / np.sum(np.exp(z)\n",
    "        softmax = np.exp(z) / np.sum(np.exp(z), axis=1).reshape(-1,1)\n"
   ]
  },
  {
   "cell_type": "code",
   "execution_count": 22,
   "metadata": {},
   "outputs": [
    {
     "name": "stdout",
     "output_type": "stream",
     "text": [
      "<function softmax at 0x00000182289DE288>\n"
     ]
    }
   ],
   "source": [
    "print(softmax)"
   ]
  },
  {
   "cell_type": "code",
   "execution_count": 20,
   "metadata": {},
   "outputs": [
    {
     "name": "stdout",
     "output_type": "stream",
     "text": [
      "0.98\n"
     ]
    },
    {
     "data": {
      "image/png": "[encoded data removed]",
      "text/plain": [
       "<Figure size 576x432 with 1 Axes>"
      ]
     },
     "metadata": {
      "needs_background": "light"
     },
     "output_type": "display_data"
    }
   ],
   "source": [
    "from sklearn import datasets\n",
    "X,y = datasets.load_iris(return_X_y=True)\n",
    "lr = MultiClassLogisticRegression(thres=1e-5)\n",
    "lr.fit(X,y,lr=0.0001)\n",
    "print(lr.score(X, y))\n",
    "\n",
    "fig = plt.figure(figsize=(8,6))\n",
    "plt.plot(np.arange(len(lr.loss)), lr.loss)\n",
    "plt.title(\"Development of loss during training\")\n",
    "plt.xlabel(\"Number of iterations\")\n",
    "plt.ylabel(\"Loss\")\n",
    "plt.show()"
   ]
  },
  {
   "cell_type": "code",
   "execution_count": null,
   "metadata": {},
   "outputs": [],
   "source": []
  }
 ],
 "metadata": {
  "kernelspec": {
   "display_name": "Python 3",
   "language": "python",
   "name": "python3"
  },
  "language_info": {
   "codemirror_mode": {
    "name": "ipython",
    "version": 3
   },
   "file_extension": ".py",
   "mimetype": "text/x-python",
   "name": "python",
   "nbconvert_exporter": "python",
   "pygments_lexer": "ipython3",
   "version": "3.7.10"
  }
 },
 "nbformat": 4,
 "nbformat_minor": 2
}
