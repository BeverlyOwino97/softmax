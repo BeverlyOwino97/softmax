{
 "cells": [
  {
   "cell_type": "code",
   "execution_count": 1,
   "metadata": {},
   "outputs": [
    {
     "data": {
      "text/plain": [
       "Text(0, 0.5, 'Sigmoid')"
      ]
     },
     "execution_count": 1,
     "metadata": {},
     "output_type": "execute_result"
    },
    {
     "data": {
      "image/png": "[encoded data removed]",
      "text/plain": [
       "<Figure size 432x288 with 1 Axes>"
      ]
     },
     "metadata": {
      "needs_background": "light"
     },
     "output_type": "display_data"
    }
   ],
   "source": [
    "import numpy as np\n",
    "import math\n",
    "import matplotlib.pyplot as plt\n",
    "%matplotlib inline\n",
    "\n",
    "a = np.linspace(-15, 15, 40)\n",
    "z = 1 / (1 + np.exp(-a))\n",
    "\n",
    "plt.plot(a, z)\n",
    "plt.grid()\n",
    "plt.ylabel(\"Sigmoid\")"
   ]
  },
  {
   "cell_type": "code",
   "execution_count": 2,
   "metadata": {},
   "outputs": [
    {
     "name": "stdout",
     "output_type": "stream",
     "text": [
      "(1797, 64)\n",
      "(1797,)\n"
     ]
    }
   ],
   "source": [
    "from sklearn import datasets\n",
    "from sklearn.model_selection import train_test_split\n",
    "from sklearn.linear_model import LogisticRegression\n",
    "from sklearn.preprocessing import StandardScaler\n",
    "import matplotlib.pyplot as plt\n",
    "%matplotlib inline\n",
    "import random\n",
    "\n",
    "digits = datasets.load_digits()\n",
    "\n",
    "X = digits.data\n",
    "y = digits.target\n",
    "\n",
    "\n",
    "print(X.shape)\n",
    "print(y.shape)"
   ]
  },
  {
   "cell_type": "code",
   "execution_count": 3,
   "metadata": {},
   "outputs": [
    {
     "data": {
      "image/png": "[encoded data removed]",
      "text/plain": [
       "<Figure size 5040x288 with 1 Axes>"
      ]
     },
     "metadata": {
      "needs_background": "light"
     },
     "output_type": "display_data"
    }
   ],
   "source": [
    "X_train, X_test, y_train, y_test = train_test_split(X, y, test_size=0.3, random_state=0)\n",
    "\n",
    "\n",
    "scaler = StandardScaler()\n",
    "X_train = scaler.fit_transform(X_train)\n",
    "X_test = scaler.transform(X_test)\n",
    "\n",
    "\n",
    "# all parameters not specified are set to their defaults\n",
    "lr = LogisticRegression()\n",
    "\n",
    "\n",
    "# FIT the model\n",
    "lr.fit(X_train,y_train)\n",
    "\n",
    "sample_image = X_test[np.random.randint(0, 108)]\n",
    "selected = sample_image.reshape(8,8)\n",
    "plt.figure(figsize = (70,4))\n",
    "plt.imshow(selected, cmap = 'binary', interpolation = None)\n",
    "plt.show()"
   ]
  },
  {
   "cell_type": "code",
   "execution_count": 4,
   "metadata": {},
   "outputs": [
    {
     "data": {
      "text/plain": [
       "(1, 64)"
      ]
     },
     "execution_count": 4,
     "metadata": {},
     "output_type": "execute_result"
    }
   ],
   "source": [
    "image = sample_image.reshape(1, -1)\n",
    "image.shape"
   ]
  },
  {
   "cell_type": "code",
   "execution_count": 5,
   "metadata": {},
   "outputs": [
    {
     "data": {
      "text/plain": [
       "array([2])"
      ]
     },
     "execution_count": 5,
     "metadata": {},
     "output_type": "execute_result"
    }
   ],
   "source": [
    "prediction = lr.predict(image)\n",
    "prediction"
   ]
  },
  {
   "cell_type": "code",
   "execution_count": 6,
   "metadata": {},
   "outputs": [
    {
     "data": {
      "text/plain": [
       "(1,)"
      ]
     },
     "execution_count": 6,
     "metadata": {},
     "output_type": "execute_result"
    }
   ],
   "source": [
    "prediction.shape"
   ]
  },
  {
   "cell_type": "code",
   "execution_count": 7,
   "metadata": {},
   "outputs": [
    {
     "name": "stdout",
     "output_type": "stream",
     "text": [
      "[0.99993046]\n"
     ]
    }
   ],
   "source": [
    "#probability that the image selected is in class 0\n",
    "#probability = lr.predict_proba(image)[:, 1]\n",
    "probability = lr.predict_proba(image)[:, 2]\n",
    "print(probability)"
   ]
  },
  {
   "cell_type": "code",
   "execution_count": 8,
   "metadata": {
    "scrolled": false
   },
   "outputs": [
    {
     "data": {
      "image/png": "[encoded data removed]",
      "text/plain": [
       "<Figure size 720x288 with 1 Axes>"
      ]
     },
     "metadata": {
      "needs_background": "light"
     },
     "output_type": "display_data"
    }
   ],
   "source": [
    "plt.figure(figsize=(10,4))\n",
    "for value in prediction, probability:\n",
    "    plt.imshow(selected, cmap=plt.cm.gray)\n",
    "    plt.title('Class: {}, Probability: {}'.format(prediction, probability), fontsize = 20)"
   ]
  },
  {
   "cell_type": "code",
   "execution_count": 9,
   "metadata": {},
   "outputs": [
    {
     "data": {
      "text/plain": [
       "array([[ 0.00000000e+00,  1.00887014e-02, -9.07939921e-02,\n",
       "         1.20612907e-01, -2.08500770e-02, -4.10107330e-01,\n",
       "        -2.76724518e-01, -2.96781035e-02, -8.82802711e-03,\n",
       "        -6.40619128e-02, -1.51987782e-01,  3.37957749e-01,\n",
       "         9.94241923e-02,  1.47328762e-01, -1.50671292e-01,\n",
       "        -4.44581212e-02, -1.41523565e-04,  1.41291326e-01,\n",
       "         1.98124921e-01, -7.46024744e-02, -6.90131424e-01,\n",
       "         4.69927979e-01,  1.86259729e-01, -3.57425674e-02,\n",
       "        -3.45869535e-04,  2.68154906e-01,  2.57581839e-01,\n",
       "        -5.07782369e-01, -1.16975191e+00,  2.64844390e-02,\n",
       "         3.78141277e-01, -2.72443815e-03,  0.00000000e+00,\n",
       "         3.61330569e-01,  3.03516662e-01, -5.17822586e-01,\n",
       "        -9.30523095e-01,  6.15427375e-02,  2.49409241e-01,\n",
       "         0.00000000e+00, -1.84269841e-03, -4.10451317e-02,\n",
       "         5.78321484e-01, -3.32161032e-01, -2.91675041e-01,\n",
       "         2.07908989e-01,  1.12180013e-01, -4.48808647e-03,\n",
       "        -2.89731696e-03, -1.24274130e-01,  2.83376195e-01,\n",
       "         4.86578611e-02,  3.04845204e-01,  9.36416671e-02,\n",
       "        -1.01496398e-01, -8.62818298e-02, -7.60249763e-05,\n",
       "        -3.12968034e-03, -8.70385521e-02,  3.15061278e-01,\n",
       "        -1.44473769e-01, -1.18940516e-01, -1.49867260e-01,\n",
       "        -1.44997351e-01],\n",
       "       [ 0.00000000e+00,  4.66665966e-04, -9.47604889e-02,\n",
       "         1.22087733e-01, -1.28047189e+00,  1.02251417e+00,\n",
       "         3.42981899e-01, -8.63734939e-02, -9.15747299e-04,\n",
       "        -6.51154382e-01, -9.89463413e-01, -5.09163107e-01,\n",
       "         7.36922951e-01, -1.38438486e-01, -4.93848272e-01,\n",
       "        -9.51892887e-02, -5.33135090e-03,  3.74954045e-01,\n",
       "         6.52029272e-02,  1.60632373e+00,  1.17708190e+00,\n",
       "        -3.16616607e-01,  2.84365496e-01, -2.99422363e-02,\n",
       "        -6.73304923e-02, -1.41592368e-01,  1.43906875e-01,\n",
       "         3.21112848e-01,  6.44318277e-01,  4.52770910e-01,\n",
       "        -1.60793984e-01, -2.98246375e-05,  0.00000000e+00,\n",
       "         1.98379509e-01,  2.56082123e-01, -2.01899312e-01,\n",
       "         3.75923056e-01,  8.12804242e-02, -2.65645117e-01,\n",
       "         0.00000000e+00, -3.99447734e-04, -4.49007555e-01,\n",
       "        -6.60741351e-02,  8.37456644e-01,  3.29290280e-01,\n",
       "        -5.62130135e-01, -4.26960589e-01, -1.50624987e-01,\n",
       "        -8.39555890e-04, -2.54135984e-01, -1.02117005e-01,\n",
       "         2.88671663e-01,  4.90452195e-01,  2.73854890e-02,\n",
       "        -1.98068691e-01,  1.97569931e-01, -2.40140213e-03,\n",
       "        -5.23491994e-02, -2.94496675e-01,  1.27418512e-01,\n",
       "         4.05971288e-01,  3.90106788e-01,  3.65846214e-01,\n",
       "         5.04143723e-01],\n",
       "       [ 0.00000000e+00,  7.50841186e-02,  1.49657425e-01,\n",
       "         1.68799200e-01,  1.60151333e-02, -4.61385881e-02,\n",
       "        -9.01390885e-02, -5.54730847e-03, -3.99619304e-02,\n",
       "         4.69471113e-01,  2.80824222e-01, -1.09309258e-01,\n",
       "         5.70046437e-01, -1.11242904e-01, -1.90334739e-02,\n",
       "        -2.70212295e-02, -9.11683068e-04, -3.65186686e-03,\n",
       "        -2.19856988e-01, -6.22164556e-01,  1.80859392e-01,\n",
       "         3.66575132e-02,  5.67915836e-02, -1.10671782e-05,\n",
       "        -4.05983967e-06, -3.47368752e-01, -9.52306249e-01,\n",
       "        -1.12667703e+00, -1.38555389e-01, -4.23581429e-02,\n",
       "        -7.74005980e-02, -4.48800371e-06,  0.00000000e+00,\n",
       "        -2.93139651e-01, -7.58734248e-01, -2.93540128e-01,\n",
       "         1.92787593e-02, -6.49329845e-01, -5.35146444e-01,\n",
       "         0.00000000e+00, -6.64338797e-06,  1.27963740e-01,\n",
       "         1.89919979e-01,  9.17923995e-01, -5.90820660e-01,\n",
       "        -8.74513152e-01, -4.01539698e-01,  1.36142322e-01,\n",
       "         6.21826960e-03,  2.93279600e-01,  3.41667706e-01,\n",
       "         8.70793350e-01,  5.53473135e-01,  7.10500061e-01,\n",
       "         2.97972987e-01,  1.37524755e-01,  1.79544657e-02,\n",
       "         3.05319613e-01,  2.09957807e-01,  1.22207593e-01,\n",
       "         1.84780454e-01,  6.26683806e-01,  6.07833872e-01,\n",
       "         2.63586577e-01],\n",
       "       [ 0.00000000e+00,  1.46650879e-01, -3.85238252e-01,\n",
       "         2.13569284e-01,  8.60293822e-01,  1.45154527e-01,\n",
       "        -1.82451503e-01, -7.84885085e-03, -1.20147481e-01,\n",
       "         2.73619558e-01,  1.59409152e-01, -3.48453202e-03,\n",
       "         2.02950602e-01,  5.34713895e-01,  2.40419055e-01,\n",
       "        -1.07963626e-01, -4.83372097e-02,  7.61668345e-03,\n",
       "        -1.02066298e+00, -9.30275438e-01,  4.05338768e-01,\n",
       "        -5.78445809e-01,  9.23857293e-02, -1.00914232e-04,\n",
       "        -5.03574499e-06, -3.66546748e-01, -1.04518014e+00,\n",
       "        -8.01972303e-02,  5.22857566e-01, -9.25888079e-01,\n",
       "        -6.81198679e-01, -3.50148110e-06,  0.00000000e+00,\n",
       "        -1.37388448e-01, -4.45281282e-01,  5.54688620e-03,\n",
       "         4.35090267e-01, -1.39315865e-01, -2.25568314e-02,\n",
       "         0.00000000e+00, -5.09057068e-06, -3.14256787e-03,\n",
       "        -7.59116844e-01, -1.13843226e+00,  1.04703196e-01,\n",
       "         9.14250521e-01,  5.89921308e-01, -9.13522940e-02,\n",
       "        -1.40968152e-05, -8.79794051e-02, -2.09520082e-01,\n",
       "        -4.62433001e-01,  1.24585945e-01,  2.31574521e-01,\n",
       "         7.81137604e-01, -5.67941793e-02, -3.28931629e-05,\n",
       "         3.49177526e-01,  5.99760415e-01,  1.48651203e-01,\n",
       "         1.14263041e-01,  1.42150461e-02,  1.52329063e-02,\n",
       "        -1.54391808e-02],\n",
       "       [ 0.00000000e+00, -2.30880599e-01, -3.30301945e-01,\n",
       "        -9.17531941e-01, -6.65933615e-01, -8.04469597e-01,\n",
       "        -4.96014079e-01,  1.02160693e-01, -1.02804897e-03,\n",
       "         1.03704567e-01, -3.89397406e-01, -5.64503341e-01,\n",
       "        -7.17410546e-01, -6.89602719e-01, -2.60972362e-01,\n",
       "         9.75441837e-02, -1.25365860e-04,  9.96448235e-02,\n",
       "         1.93682252e-01,  3.69364583e-02,  2.46096728e-02,\n",
       "         2.16013932e-01, -3.27353047e-02,  2.58907419e-01,\n",
       "         1.08064066e-01,  9.83490620e-02,  6.50606872e-01,\n",
       "         2.45243259e-02,  4.39419014e-02, -1.15682586e-03,\n",
       "         8.25722760e-01,  1.37041864e-02,  0.00000000e+00,\n",
       "         5.05088905e-01,  1.41661574e-01, -1.75998078e-01,\n",
       "         5.05567581e-01,  3.49423766e-01,  7.51034785e-01,\n",
       "         0.00000000e+00,  4.36908518e-03,  8.83771828e-01,\n",
       "        -7.40808888e-02,  1.13031846e+00,  7.84978506e-01,\n",
       "        -1.88273017e-02,  7.62816355e-02, -1.76075354e-02,\n",
       "         1.69567448e-03,  3.14216104e-01, -4.50830395e-01,\n",
       "         8.45778731e-02,  2.12487011e-01, -6.56363228e-01,\n",
       "        -4.73898659e-01, -3.07864185e-02, -4.53959656e-03,\n",
       "        -1.29345381e-01, -1.41619097e-01, -5.39322885e-01,\n",
       "        -3.73285211e-01, -5.37590216e-01, -2.66182734e-01,\n",
       "        -2.40979420e-02],\n",
       "       [ 0.00000000e+00,  3.22688608e-01,  8.83433113e-01,\n",
       "        -3.16798235e-01,  2.02956674e-01,  4.37287801e-01,\n",
       "         8.74818093e-01, -1.57585046e-01,  4.97954443e-02,\n",
       "        -4.42580877e-02,  5.86004290e-01,  3.66051594e-01,\n",
       "        -6.44489868e-02, -4.30203942e-01, -1.06163908e-01,\n",
       "         7.43741751e-02, -1.05237559e-02,  9.34289663e-02,\n",
       "         4.10524377e-01, -1.56579445e-01, -1.02545167e+00,\n",
       "        -1.22875018e+00, -8.42187795e-01, -8.20301733e-03,\n",
       "        -3.15883056e-02,  4.71274837e-01,  5.92589093e-01,\n",
       "        -6.92825811e-02,  4.05696265e-01, -3.10742630e-02,\n",
       "        -3.75206860e-01, -3.28233959e-05,  0.00000000e+00,\n",
       "        -7.23250653e-02,  2.12707073e-01, -3.79878882e-01,\n",
       "        -2.43313649e-01,  7.20627002e-02,  2.45828714e-01,\n",
       "         0.00000000e+00, -1.00294665e-05, -4.91603685e-01,\n",
       "        -5.11243748e-01, -5.69501322e-01, -1.99135596e-01,\n",
       "         3.66738948e-01, -9.51824695e-02, -8.01459213e-03,\n",
       "        -8.47121360e-06,  6.62409447e-02, -1.50104543e-01,\n",
       "        -2.31363216e-01,  5.71215047e-03, -6.41017006e-02,\n",
       "        -2.31816540e-01, -4.44205104e-02, -1.19097196e-05,\n",
       "         1.97910078e-01,  6.70057706e-01,  6.18331053e-01,\n",
       "        -1.35539668e-01, -7.51008093e-02, -1.87432708e-01,\n",
       "        -1.67482909e-01],\n",
       "       [ 0.00000000e+00, -7.90632001e-02, -3.42488999e-01,\n",
       "         7.93910642e-04, -3.07463038e-01, -9.32058388e-02,\n",
       "        -1.55473690e-01, -1.05431446e-03, -1.05282610e-03,\n",
       "        -3.83200724e-01, -2.80167849e-01,  1.86986718e-01,\n",
       "        -8.50178249e-01, -2.54362999e-01,  6.73656065e-02,\n",
       "        -1.22104186e-03, -5.19902358e-04, -3.84679291e-01,\n",
       "         2.10157585e-01,  1.78978419e-01, -6.66594462e-01,\n",
       "        -9.92630124e-01, -2.31542630e-01, -2.97943135e-03,\n",
       "        -1.13837342e-03,  1.46270511e-01,  9.80264799e-02,\n",
       "         2.80353329e-01, -5.15999381e-01, -4.47743344e-01,\n",
       "        -3.89505969e-01, -1.42829937e-04,  0.00000000e+00,\n",
       "         3.67143703e-01,  6.77706158e-01,  4.88766239e-01,\n",
       "        -1.18069922e-01,  5.93286196e-02,  4.69279114e-02,\n",
       "         0.00000000e+00, -1.91638783e-03, -7.26046438e-02,\n",
       "         1.02344308e+00,  2.15270129e-01,  2.15603613e-01,\n",
       "         4.44253627e-01,  2.65218398e-01,  1.83754507e-01,\n",
       "        -3.35324916e-04, -2.20552693e-01,  4.74209354e-01,\n",
       "         3.35666071e-01, -2.26787116e-01,  5.56900386e-01,\n",
       "         1.81790105e-01, -2.58582522e-01,  8.18167421e-06,\n",
       "        -9.06077162e-02, -3.84211331e-01, -2.20670137e-01,\n",
       "         1.79098533e-01,  4.39630698e-01, -5.79182130e-03,\n",
       "        -2.16613455e-01],\n",
       "       [ 0.00000000e+00,  1.65470823e-01,  1.05460650e-01,\n",
       "         1.69887220e-01,  3.68277930e-01,  1.60112953e-01,\n",
       "         3.82437170e-01,  3.08604547e-01, -2.60940735e-05,\n",
       "         1.62889357e-01,  4.38707767e-01,  2.91653378e-01,\n",
       "         7.99741723e-01, -3.68635832e-02, -7.00280721e-02,\n",
       "         8.49183397e-02, -1.72021602e-04, -5.71412134e-01,\n",
       "        -6.11317836e-01, -6.21611958e-01,  1.12784884e-01,\n",
       "         5.34575153e-01,  1.76488979e-01, -2.32305522e-02,\n",
       "        -6.18585524e-04, -2.20386273e-01, -1.88142987e-01,\n",
       "        -7.22184661e-01, -8.33621562e-02,  3.20430094e-01,\n",
       "         3.74949701e-01, -3.08126152e-04,  0.00000000e+00,\n",
       "         4.91921969e-02,  3.06291297e-02, -9.17771794e-02,\n",
       "         4.22290882e-01,  5.51769473e-01,  5.34210395e-01,\n",
       "         0.00000000e+00, -5.20028014e-05,  4.15070561e-02,\n",
       "         1.07445480e-02,  2.45718516e-01,  2.98511620e-01,\n",
       "        -2.12700288e-01, -1.17589655e-01, -1.32030551e-03,\n",
       "        -1.09869233e-04, -2.24098660e-01, -1.37861028e-01,\n",
       "         2.30959350e-01, -6.18444924e-01, -9.12951977e-01,\n",
       "        -3.14435923e-01, -1.32595892e-02, -3.09550177e-04,\n",
       "        -1.16027479e-01, -1.14108939e-01, -5.43649475e-01,\n",
       "        -7.92276240e-01, -6.38213539e-01, -2.03430769e-01,\n",
       "        -1.62241746e-02],\n",
       "       [ 0.00000000e+00, -1.22329099e-01,  1.90457441e-01,\n",
       "        -3.52192457e-01,  2.66435337e-01, -9.90014172e-02,\n",
       "        -5.69229056e-01, -4.81143237e-02,  1.28672523e-01,\n",
       "        -5.77975806e-02,  2.39896200e-01,  2.88660529e-03,\n",
       "        -5.65920079e-01,  5.48942295e-01,  4.10492776e-01,\n",
       "        -7.63678058e-02,  6.64568249e-02,  4.80375030e-02,\n",
       "         3.86831620e-01,  1.89555455e-01,  5.85146288e-02,\n",
       "         3.70601393e-01,  1.57552457e-01, -3.41195523e-02,\n",
       "        -6.78347786e-03,  1.13712824e-01, -1.52575546e-01,\n",
       "         8.00754639e-01, -2.68818498e-01,  7.66783948e-02,\n",
       "         7.90986826e-02, -5.53332378e-04,  0.00000000e+00,\n",
       "        -3.82113432e-01, -2.77802189e-01,  7.27370248e-01,\n",
       "         1.56182967e-01, -6.05210207e-01, -1.05545441e+00,\n",
       "         0.00000000e+00, -2.40960532e-04,  1.25709164e-01,\n",
       "         7.03355205e-01,  4.20134337e-01,  3.38819126e-01,\n",
       "         1.81691979e-01,  1.73999079e-01, -4.34582459e-02,\n",
       "        -3.77930207e-03,  5.18718443e-02,  3.88412010e-01,\n",
       "        -7.04396683e-01, -4.66691276e-01,  4.89147396e-01,\n",
       "         1.00462380e-01, -2.22841802e-01, -1.06360624e-02,\n",
       "        -1.69202832e-01, -5.24271535e-01,  3.97968946e-02,\n",
       "         3.41718587e-01, -7.79214088e-02,  7.33920082e-02,\n",
       "        -1.61232323e-01],\n",
       "       [ 0.00000000e+00, -2.88176898e-01, -8.54249508e-02,\n",
       "         7.90772379e-01,  5.60739724e-01, -3.12146683e-01,\n",
       "         1.69794773e-01, -7.45637985e-02, -6.50781208e-03,\n",
       "         1.90788093e-01,  1.06174818e-01,  9.24193276e-04,\n",
       "        -2.11128044e-01,  4.29729681e-01,  3.82439942e-01,\n",
       "         9.53844145e-02, -3.94011946e-04,  1.94769945e-01,\n",
       "         3.87314121e-01,  3.93439806e-01,  4.22988313e-01,\n",
       "         1.48866675e+00,  1.52621755e-01, -1.24578080e-01,\n",
       "        -2.49865940e-04, -2.18679982e-02,  5.95493764e-01,\n",
       "         1.07937873e+00,  5.59673321e-01,  5.71856817e-01,\n",
       "         2.61936684e-02, -9.90482222e-03,  0.00000000e+00,\n",
       "        -5.96168286e-01, -1.40485000e-01,  4.39232792e-01,\n",
       "        -6.22426847e-01,  2.18448198e-01,  5.13917559e-02,\n",
       "         0.00000000e+00,  1.04175559e-04, -1.21548205e-01,\n",
       "        -1.09526868e+00, -1.72672746e+00, -9.90275045e-01,\n",
       "        -4.46673185e-01, -1.76328021e-01, -3.03078359e-03,\n",
       "         6.99930071e-05,  1.85432379e-01, -4.37232211e-01,\n",
       "        -4.61133269e-01, -3.79632325e-01, -4.75732615e-01,\n",
       "        -4.16468641e-02,  3.77872166e-01,  4.47917416e-05,\n",
       "        -2.91744929e-01,  6.59702019e-02, -6.78240384e-02,\n",
       "         2.19742986e-01, -2.28698486e-02, -2.49599709e-01,\n",
       "        -2.16429656e-02]])"
      ]
     },
     "execution_count": 9,
     "metadata": {},
     "output_type": "execute_result"
    }
   ],
   "source": [
    "lr.coef_"
   ]
  },
  {
   "cell_type": "code",
   "execution_count": 10,
   "metadata": {},
   "outputs": [
    {
     "data": {
      "text/plain": [
       "(10, 64)"
      ]
     },
     "execution_count": 10,
     "metadata": {},
     "output_type": "execute_result"
    }
   ],
   "source": [
    "lr.coef_.shape"
   ]
  },
  {
   "cell_type": "code",
   "execution_count": 11,
   "metadata": {},
   "outputs": [],
   "source": [
    "def sigmoid(z):\n",
    "    \"\"\"\n",
    "    Implement the sigmoid function\n",
    "\n",
    "    Arguments:\n",
    "    y -- a scalar (float)\n",
    "\n",
    "    Return:\n",
    "    s -- the sigmoid function evaluated on z (as in equation (1))\n",
    "    \"\"\"\n",
    "    s = 1.0 / (1.0 + np.exp(-z))\n",
    "    z = lr.coef_.T*image\n",
    "    \n",
    "    print (s)"
   ]
  },
  {
   "cell_type": "code",
   "execution_count": 12,
   "metadata": {},
   "outputs": [
    {
     "data": {
      "text/plain": [
       "array([[ 0.00000000e+00,  0.00000000e+00,  0.00000000e+00,\n",
       "         0.00000000e+00,  0.00000000e+00,  0.00000000e+00,\n",
       "         0.00000000e+00,  0.00000000e+00,  0.00000000e+00,\n",
       "         0.00000000e+00],\n",
       "       [ 1.00887014e-02,  4.66665966e-04,  7.50841186e-02,\n",
       "         1.46650879e-01, -2.30880599e-01,  3.22688608e-01,\n",
       "        -7.90632001e-02,  1.65470823e-01, -1.22329099e-01,\n",
       "        -2.88176898e-01],\n",
       "       [-9.07939921e-02, -9.47604889e-02,  1.49657425e-01,\n",
       "        -3.85238252e-01, -3.30301945e-01,  8.83433113e-01,\n",
       "        -3.42488999e-01,  1.05460650e-01,  1.90457441e-01,\n",
       "        -8.54249508e-02],\n",
       "       [ 1.20612907e-01,  1.22087733e-01,  1.68799200e-01,\n",
       "         2.13569284e-01, -9.17531941e-01, -3.16798235e-01,\n",
       "         7.93910642e-04,  1.69887220e-01, -3.52192457e-01,\n",
       "         7.90772379e-01],\n",
       "       [-2.08500770e-02, -1.28047189e+00,  1.60151333e-02,\n",
       "         8.60293822e-01, -6.65933615e-01,  2.02956674e-01,\n",
       "        -3.07463038e-01,  3.68277930e-01,  2.66435337e-01,\n",
       "         5.60739724e-01],\n",
       "       [-4.10107330e-01,  1.02251417e+00, -4.61385881e-02,\n",
       "         1.45154527e-01, -8.04469597e-01,  4.37287801e-01,\n",
       "        -9.32058388e-02,  1.60112953e-01, -9.90014172e-02,\n",
       "        -3.12146683e-01],\n",
       "       [-2.76724518e-01,  3.42981899e-01, -9.01390885e-02,\n",
       "        -1.82451503e-01, -4.96014079e-01,  8.74818093e-01,\n",
       "        -1.55473690e-01,  3.82437170e-01, -5.69229056e-01,\n",
       "         1.69794773e-01],\n",
       "       [-2.96781035e-02, -8.63734939e-02, -5.54730847e-03,\n",
       "        -7.84885085e-03,  1.02160693e-01, -1.57585046e-01,\n",
       "        -1.05431446e-03,  3.08604547e-01, -4.81143237e-02,\n",
       "        -7.45637985e-02],\n",
       "       [-8.82802711e-03, -9.15747299e-04, -3.99619304e-02,\n",
       "        -1.20147481e-01, -1.02804897e-03,  4.97954443e-02,\n",
       "        -1.05282610e-03, -2.60940735e-05,  1.28672523e-01,\n",
       "        -6.50781208e-03],\n",
       "       [-6.40619128e-02, -6.51154382e-01,  4.69471113e-01,\n",
       "         2.73619558e-01,  1.03704567e-01, -4.42580877e-02,\n",
       "        -3.83200724e-01,  1.62889357e-01, -5.77975806e-02,\n",
       "         1.90788093e-01],\n",
       "       [-1.51987782e-01, -9.89463413e-01,  2.80824222e-01,\n",
       "         1.59409152e-01, -3.89397406e-01,  5.86004290e-01,\n",
       "        -2.80167849e-01,  4.38707767e-01,  2.39896200e-01,\n",
       "         1.06174818e-01],\n",
       "       [ 3.37957749e-01, -5.09163107e-01, -1.09309258e-01,\n",
       "        -3.48453202e-03, -5.64503341e-01,  3.66051594e-01,\n",
       "         1.86986718e-01,  2.91653378e-01,  2.88660529e-03,\n",
       "         9.24193276e-04],\n",
       "       [ 9.94241923e-02,  7.36922951e-01,  5.70046437e-01,\n",
       "         2.02950602e-01, -7.17410546e-01, -6.44489868e-02,\n",
       "        -8.50178249e-01,  7.99741723e-01, -5.65920079e-01,\n",
       "        -2.11128044e-01],\n",
       "       [ 1.47328762e-01, -1.38438486e-01, -1.11242904e-01,\n",
       "         5.34713895e-01, -6.89602719e-01, -4.30203942e-01,\n",
       "        -2.54362999e-01, -3.68635832e-02,  5.48942295e-01,\n",
       "         4.29729681e-01],\n",
       "       [-1.50671292e-01, -4.93848272e-01, -1.90334739e-02,\n",
       "         2.40419055e-01, -2.60972362e-01, -1.06163908e-01,\n",
       "         6.73656065e-02, -7.00280721e-02,  4.10492776e-01,\n",
       "         3.82439942e-01],\n",
       "       [-4.44581212e-02, -9.51892887e-02, -2.70212295e-02,\n",
       "        -1.07963626e-01,  9.75441837e-02,  7.43741751e-02,\n",
       "        -1.22104186e-03,  8.49183397e-02, -7.63678058e-02,\n",
       "         9.53844145e-02],\n",
       "       [-1.41523565e-04, -5.33135090e-03, -9.11683068e-04,\n",
       "        -4.83372097e-02, -1.25365860e-04, -1.05237559e-02,\n",
       "        -5.19902358e-04, -1.72021602e-04,  6.64568249e-02,\n",
       "        -3.94011946e-04],\n",
       "       [ 1.41291326e-01,  3.74954045e-01, -3.65186686e-03,\n",
       "         7.61668345e-03,  9.96448235e-02,  9.34289663e-02,\n",
       "        -3.84679291e-01, -5.71412134e-01,  4.80375030e-02,\n",
       "         1.94769945e-01],\n",
       "       [ 1.98124921e-01,  6.52029272e-02, -2.19856988e-01,\n",
       "        -1.02066298e+00,  1.93682252e-01,  4.10524377e-01,\n",
       "         2.10157585e-01, -6.11317836e-01,  3.86831620e-01,\n",
       "         3.87314121e-01],\n",
       "       [-7.46024744e-02,  1.60632373e+00, -6.22164556e-01,\n",
       "        -9.30275438e-01,  3.69364583e-02, -1.56579445e-01,\n",
       "         1.78978419e-01, -6.21611958e-01,  1.89555455e-01,\n",
       "         3.93439806e-01],\n",
       "       [-6.90131424e-01,  1.17708190e+00,  1.80859392e-01,\n",
       "         4.05338768e-01,  2.46096728e-02, -1.02545167e+00,\n",
       "        -6.66594462e-01,  1.12784884e-01,  5.85146288e-02,\n",
       "         4.22988313e-01],\n",
       "       [ 4.69927979e-01, -3.16616607e-01,  3.66575132e-02,\n",
       "        -5.78445809e-01,  2.16013932e-01, -1.22875018e+00,\n",
       "        -9.92630124e-01,  5.34575153e-01,  3.70601393e-01,\n",
       "         1.48866675e+00],\n",
       "       [ 1.86259729e-01,  2.84365496e-01,  5.67915836e-02,\n",
       "         9.23857293e-02, -3.27353047e-02, -8.42187795e-01,\n",
       "        -2.31542630e-01,  1.76488979e-01,  1.57552457e-01,\n",
       "         1.52621755e-01],\n",
       "       [-3.57425674e-02, -2.99422363e-02, -1.10671782e-05,\n",
       "        -1.00914232e-04,  2.58907419e-01, -8.20301733e-03,\n",
       "        -2.97943135e-03, -2.32305522e-02, -3.41195523e-02,\n",
       "        -1.24578080e-01],\n",
       "       [-3.45869535e-04, -6.73304923e-02, -4.05983967e-06,\n",
       "        -5.03574499e-06,  1.08064066e-01, -3.15883056e-02,\n",
       "        -1.13837342e-03, -6.18585524e-04, -6.78347786e-03,\n",
       "        -2.49865940e-04],\n",
       "       [ 2.68154906e-01, -1.41592368e-01, -3.47368752e-01,\n",
       "        -3.66546748e-01,  9.83490620e-02,  4.71274837e-01,\n",
       "         1.46270511e-01, -2.20386273e-01,  1.13712824e-01,\n",
       "        -2.18679982e-02],\n",
       "       [ 2.57581839e-01,  1.43906875e-01, -9.52306249e-01,\n",
       "        -1.04518014e+00,  6.50606872e-01,  5.92589093e-01,\n",
       "         9.80264799e-02, -1.88142987e-01, -1.52575546e-01,\n",
       "         5.95493764e-01],\n",
       "       [-5.07782369e-01,  3.21112848e-01, -1.12667703e+00,\n",
       "        -8.01972303e-02,  2.45243259e-02, -6.92825811e-02,\n",
       "         2.80353329e-01, -7.22184661e-01,  8.00754639e-01,\n",
       "         1.07937873e+00],\n",
       "       [-1.16975191e+00,  6.44318277e-01, -1.38555389e-01,\n",
       "         5.22857566e-01,  4.39419014e-02,  4.05696265e-01,\n",
       "        -5.15999381e-01, -8.33621562e-02, -2.68818498e-01,\n",
       "         5.59673321e-01],\n",
       "       [ 2.64844390e-02,  4.52770910e-01, -4.23581429e-02,\n",
       "        -9.25888079e-01, -1.15682586e-03, -3.10742630e-02,\n",
       "        -4.47743344e-01,  3.20430094e-01,  7.66783948e-02,\n",
       "         5.71856817e-01],\n",
       "       [ 3.78141277e-01, -1.60793984e-01, -7.74005980e-02,\n",
       "        -6.81198679e-01,  8.25722760e-01, -3.75206860e-01,\n",
       "        -3.89505969e-01,  3.74949701e-01,  7.90986826e-02,\n",
       "         2.61936684e-02],\n",
       "       [-2.72443815e-03, -2.98246375e-05, -4.48800371e-06,\n",
       "        -3.50148110e-06,  1.37041864e-02, -3.28233959e-05,\n",
       "        -1.42829937e-04, -3.08126152e-04, -5.53332378e-04,\n",
       "        -9.90482222e-03],\n",
       "       [ 0.00000000e+00,  0.00000000e+00,  0.00000000e+00,\n",
       "         0.00000000e+00,  0.00000000e+00,  0.00000000e+00,\n",
       "         0.00000000e+00,  0.00000000e+00,  0.00000000e+00,\n",
       "         0.00000000e+00],\n",
       "       [ 3.61330569e-01,  1.98379509e-01, -2.93139651e-01,\n",
       "        -1.37388448e-01,  5.05088905e-01, -7.23250653e-02,\n",
       "         3.67143703e-01,  4.91921969e-02, -3.82113432e-01,\n",
       "        -5.96168286e-01],\n",
       "       [ 3.03516662e-01,  2.56082123e-01, -7.58734248e-01,\n",
       "        -4.45281282e-01,  1.41661574e-01,  2.12707073e-01,\n",
       "         6.77706158e-01,  3.06291297e-02, -2.77802189e-01,\n",
       "        -1.40485000e-01],\n",
       "       [-5.17822586e-01, -2.01899312e-01, -2.93540128e-01,\n",
       "         5.54688620e-03, -1.75998078e-01, -3.79878882e-01,\n",
       "         4.88766239e-01, -9.17771794e-02,  7.27370248e-01,\n",
       "         4.39232792e-01],\n",
       "       [-9.30523095e-01,  3.75923056e-01,  1.92787593e-02,\n",
       "         4.35090267e-01,  5.05567581e-01, -2.43313649e-01,\n",
       "        -1.18069922e-01,  4.22290882e-01,  1.56182967e-01,\n",
       "        -6.22426847e-01],\n",
       "       [ 6.15427375e-02,  8.12804242e-02, -6.49329845e-01,\n",
       "        -1.39315865e-01,  3.49423766e-01,  7.20627002e-02,\n",
       "         5.93286196e-02,  5.51769473e-01, -6.05210207e-01,\n",
       "         2.18448198e-01],\n",
       "       [ 2.49409241e-01, -2.65645117e-01, -5.35146444e-01,\n",
       "        -2.25568314e-02,  7.51034785e-01,  2.45828714e-01,\n",
       "         4.69279114e-02,  5.34210395e-01, -1.05545441e+00,\n",
       "         5.13917559e-02],\n",
       "       [ 0.00000000e+00,  0.00000000e+00,  0.00000000e+00,\n",
       "         0.00000000e+00,  0.00000000e+00,  0.00000000e+00,\n",
       "         0.00000000e+00,  0.00000000e+00,  0.00000000e+00,\n",
       "         0.00000000e+00],\n",
       "       [-1.84269841e-03, -3.99447734e-04, -6.64338797e-06,\n",
       "        -5.09057068e-06,  4.36908518e-03, -1.00294665e-05,\n",
       "        -1.91638783e-03, -5.20028014e-05, -2.40960532e-04,\n",
       "         1.04175559e-04],\n",
       "       [-4.10451317e-02, -4.49007555e-01,  1.27963740e-01,\n",
       "        -3.14256787e-03,  8.83771828e-01, -4.91603685e-01,\n",
       "        -7.26046438e-02,  4.15070561e-02,  1.25709164e-01,\n",
       "        -1.21548205e-01],\n",
       "       [ 5.78321484e-01, -6.60741351e-02,  1.89919979e-01,\n",
       "        -7.59116844e-01, -7.40808888e-02, -5.11243748e-01,\n",
       "         1.02344308e+00,  1.07445480e-02,  7.03355205e-01,\n",
       "        -1.09526868e+00],\n",
       "       [-3.32161032e-01,  8.37456644e-01,  9.17923995e-01,\n",
       "        -1.13843226e+00,  1.13031846e+00, -5.69501322e-01,\n",
       "         2.15270129e-01,  2.45718516e-01,  4.20134337e-01,\n",
       "        -1.72672746e+00],\n",
       "       [-2.91675041e-01,  3.29290280e-01, -5.90820660e-01,\n",
       "         1.04703196e-01,  7.84978506e-01, -1.99135596e-01,\n",
       "         2.15603613e-01,  2.98511620e-01,  3.38819126e-01,\n",
       "        -9.90275045e-01],\n",
       "       [ 2.07908989e-01, -5.62130135e-01, -8.74513152e-01,\n",
       "         9.14250521e-01, -1.88273017e-02,  3.66738948e-01,\n",
       "         4.44253627e-01, -2.12700288e-01,  1.81691979e-01,\n",
       "        -4.46673185e-01],\n",
       "       [ 1.12180013e-01, -4.26960589e-01, -4.01539698e-01,\n",
       "         5.89921308e-01,  7.62816355e-02, -9.51824695e-02,\n",
       "         2.65218398e-01, -1.17589655e-01,  1.73999079e-01,\n",
       "        -1.76328021e-01],\n",
       "       [-4.48808647e-03, -1.50624987e-01,  1.36142322e-01,\n",
       "        -9.13522940e-02, -1.76075354e-02, -8.01459213e-03,\n",
       "         1.83754507e-01, -1.32030551e-03, -4.34582459e-02,\n",
       "        -3.03078359e-03],\n",
       "       [-2.89731696e-03, -8.39555890e-04,  6.21826960e-03,\n",
       "        -1.40968152e-05,  1.69567448e-03, -8.47121360e-06,\n",
       "        -3.35324916e-04, -1.09869233e-04, -3.77930207e-03,\n",
       "         6.99930071e-05],\n",
       "       [-1.24274130e-01, -2.54135984e-01,  2.93279600e-01,\n",
       "        -8.79794051e-02,  3.14216104e-01,  6.62409447e-02,\n",
       "        -2.20552693e-01, -2.24098660e-01,  5.18718443e-02,\n",
       "         1.85432379e-01],\n",
       "       [ 2.83376195e-01, -1.02117005e-01,  3.41667706e-01,\n",
       "        -2.09520082e-01, -4.50830395e-01, -1.50104543e-01,\n",
       "         4.74209354e-01, -1.37861028e-01,  3.88412010e-01,\n",
       "        -4.37232211e-01],\n",
       "       [ 4.86578611e-02,  2.88671663e-01,  8.70793350e-01,\n",
       "        -4.62433001e-01,  8.45778731e-02, -2.31363216e-01,\n",
       "         3.35666071e-01,  2.30959350e-01, -7.04396683e-01,\n",
       "        -4.61133269e-01],\n",
       "       [ 3.04845204e-01,  4.90452195e-01,  5.53473135e-01,\n",
       "         1.24585945e-01,  2.12487011e-01,  5.71215047e-03,\n",
       "        -2.26787116e-01, -6.18444924e-01, -4.66691276e-01,\n",
       "        -3.79632325e-01],\n",
       "       [ 9.36416671e-02,  2.73854890e-02,  7.10500061e-01,\n",
       "         2.31574521e-01, -6.56363228e-01, -6.41017006e-02,\n",
       "         5.56900386e-01, -9.12951977e-01,  4.89147396e-01,\n",
       "        -4.75732615e-01],\n",
       "       [-1.01496398e-01, -1.98068691e-01,  2.97972987e-01,\n",
       "         7.81137604e-01, -4.73898659e-01, -2.31816540e-01,\n",
       "         1.81790105e-01, -3.14435923e-01,  1.00462380e-01,\n",
       "        -4.16468641e-02],\n",
       "       [-8.62818298e-02,  1.97569931e-01,  1.37524755e-01,\n",
       "        -5.67941793e-02, -3.07864185e-02, -4.44205104e-02,\n",
       "        -2.58582522e-01, -1.32595892e-02, -2.22841802e-01,\n",
       "         3.77872166e-01],\n",
       "       [-7.60249763e-05, -2.40140213e-03,  1.79544657e-02,\n",
       "        -3.28931629e-05, -4.53959656e-03, -1.19097196e-05,\n",
       "         8.18167421e-06, -3.09550177e-04, -1.06360624e-02,\n",
       "         4.47917416e-05],\n",
       "       [-3.12968034e-03, -5.23491994e-02,  3.05319613e-01,\n",
       "         3.49177526e-01, -1.29345381e-01,  1.97910078e-01,\n",
       "        -9.06077162e-02, -1.16027479e-01, -1.69202832e-01,\n",
       "        -2.91744929e-01],\n",
       "       [-8.70385521e-02, -2.94496675e-01,  2.09957807e-01,\n",
       "         5.99760415e-01, -1.41619097e-01,  6.70057706e-01,\n",
       "        -3.84211331e-01, -1.14108939e-01, -5.24271535e-01,\n",
       "         6.59702019e-02],\n",
       "       [ 3.15061278e-01,  1.27418512e-01,  1.22207593e-01,\n",
       "         1.48651203e-01, -5.39322885e-01,  6.18331053e-01,\n",
       "        -2.20670137e-01, -5.43649475e-01,  3.97968946e-02,\n",
       "        -6.78240384e-02],\n",
       "       [-1.44473769e-01,  4.05971288e-01,  1.84780454e-01,\n",
       "         1.14263041e-01, -3.73285211e-01, -1.35539668e-01,\n",
       "         1.79098533e-01, -7.92276240e-01,  3.41718587e-01,\n",
       "         2.19742986e-01],\n",
       "       [-1.18940516e-01,  3.90106788e-01,  6.26683806e-01,\n",
       "         1.42150461e-02, -5.37590216e-01, -7.51008093e-02,\n",
       "         4.39630698e-01, -6.38213539e-01, -7.79214088e-02,\n",
       "        -2.28698486e-02],\n",
       "       [-1.49867260e-01,  3.65846214e-01,  6.07833872e-01,\n",
       "         1.52329063e-02, -2.66182734e-01, -1.87432708e-01,\n",
       "        -5.79182130e-03, -2.03430769e-01,  7.33920082e-02,\n",
       "        -2.49599709e-01],\n",
       "       [-1.44997351e-01,  5.04143723e-01,  2.63586577e-01,\n",
       "        -1.54391808e-02, -2.40979420e-02, -1.67482909e-01,\n",
       "        -2.16613455e-01, -1.62241746e-02, -1.61232323e-01,\n",
       "        -2.16429656e-02]])"
      ]
     },
     "execution_count": 12,
     "metadata": {},
     "output_type": "execute_result"
    }
   ],
   "source": [
    "lr.coef_.T"
   ]
  },
  {
   "cell_type": "code",
   "execution_count": 13,
   "metadata": {},
   "outputs": [],
   "source": [
    "z = np.dot(lr.coef_, image.T)\n",
    "s = 1.0 / (1.0 + np.exp(-z))\n",
    "   \n",
    "    "
   ]
  },
  {
   "cell_type": "code",
   "execution_count": 14,
   "metadata": {},
   "outputs": [
    {
     "name": "stdout",
     "output_type": "stream",
     "text": [
      "[[2.16620858e-02]\n",
      " [1.88618489e-01]\n",
      " [9.99999745e-01]\n",
      " [9.48961211e-01]\n",
      " [6.53992065e-04]\n",
      " [8.41351772e-02]\n",
      " [4.21142229e-02]\n",
      " [9.38501162e-02]\n",
      " [9.48503295e-01]\n",
      " [3.46099766e-01]]\n"
     ]
    }
   ],
   "source": [
    "print(s)"
   ]
  },
  {
   "cell_type": "code",
   "execution_count": 15,
   "metadata": {},
   "outputs": [
    {
     "data": {
      "text/plain": [
       "(10, 1)"
      ]
     },
     "execution_count": 15,
     "metadata": {},
     "output_type": "execute_result"
    }
   ],
   "source": [
    "s.shape"
   ]
  },
  {
   "cell_type": "code",
   "execution_count": null,
   "metadata": {},
   "outputs": [],
   "source": []
  }
 ],
 "metadata": {
  "kernelspec": {
   "display_name": "Python 3",
   "language": "python",
   "name": "python3"
  },
  "language_info": {
   "codemirror_mode": {
    "name": "ipython",
    "version": 3
   },
   "file_extension": ".py",
   "mimetype": "text/x-python",
   "name": "python",
   "nbconvert_exporter": "python",
   "pygments_lexer": "ipython3",
   "version": "3.7.10"
  }
 },
 "nbformat": 4,
 "nbformat_minor": 5
}
